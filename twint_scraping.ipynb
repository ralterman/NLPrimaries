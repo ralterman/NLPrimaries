{
 "cells": [
  {
   "cell_type": "code",
   "execution_count": 0,
   "metadata": {
    "colab": {},
    "colab_type": "code",
    "id": "oXonSL5hju1y"
   },
   "outputs": [],
   "source": [
    "import pandas as pd\n",
    "import matplotlib.pyplot as plt\n",
    "import seaborn as sns\n",
    "import nltk\n",
    "import twint\n",
    "import nest_asyncio\n",
    "nest_asyncio.apply()\n",
    "\n",
    "pd.set_option('display.max_columns', None)"
   ]
  },
  {
   "cell_type": "code",
   "execution_count": 3,
   "metadata": {
    "colab": {
     "base_uri": "https://localhost:8080/",
     "height": 105
    },
    "colab_type": "code",
    "executionInfo": {
     "elapsed": 3553,
     "status": "ok",
     "timestamp": 1581535151810,
     "user": {
      "displayName": "Robert Alterman",
      "photoUrl": "",
      "userId": "07232718886998554157"
     },
     "user_tz": 300
    },
    "id": "CZ3pYjFeqp4Y",
    "outputId": "a7a42958-1adf-4513-c5f0-5d6c41b0af92"
   },
   "outputs": [
    {
     "name": "stdout",
     "output_type": "stream",
     "text": [
      "Collecting nest_asyncio\n",
      "  Downloading https://files.pythonhosted.org/packages/ad/05/a511d3c77850879409ca8a5f73257da50b97c28e030a82cdf8b0d359dedf/nest_asyncio-1.2.3-py3-none-any.whl\n",
      "Installing collected packages: nest-asyncio\n",
      "Successfully installed nest-asyncio-1.2.3\n"
     ]
    }
   ],
   "source": [
    "!pip install nest_asyncio"
   ]
  },
  {
   "cell_type": "code",
   "execution_count": 0,
   "metadata": {
    "colab": {},
    "colab_type": "code",
    "id": "wj_cGxPCj2pL"
   },
   "outputs": [],
   "source": [
    "# buttigieg, biden, sanders, warren, klobuchar, bloomberg, yang\n",
    "c = twint.Config()\n",
    "c.Search = \"Buttigieg OR Mayor Pete OR @PeteButtigieg AND -Biden AND -Warren AND -Klobuchar AND -Bloomberg AND -Yang AND -Sanders AND -Bernie AND -@ewarren AND -@SenWarren AND -@MikeBloomberg AND -@JoeBiden AND -@amyklobuchar AND -@SenAmyKlobuchar AND -@BernieSanders AND -@SenSanders AND -@AndrewYang\"\n",
    "c.Store_csv = True\n",
    "c.Verified = True\n",
    "c.Output = 'buttigieg.csv'\n",
    "c.Since = '2020-01-01'"
   ]
  },
  {
   "cell_type": "code",
   "execution_count": 0,
   "metadata": {
    "colab": {
     "base_uri": "https://localhost:8080/",
     "height": 1000,
     "output_embedded_package_id": "1SckSCzPpNtXQ19auYHdNR-KV-7amZEyv"
    },
    "colab_type": "code",
    "executionInfo": {
     "elapsed": 383660,
     "status": "ok",
     "timestamp": 1581374891713,
     "user": {
      "displayName": "Robert Alterman",
      "photoUrl": "",
      "userId": "07232718886998554157"
     },
     "user_tz": 300
    },
    "id": "VaY0TCCLj6np",
    "outputId": "2eb6e200-7c91-4d12-a705-54960fb1909b"
   },
   "outputs": [
    {
     "data": {
      "text/plain": [
       "Output hidden; open in https://colab.research.google.com to view."
      ]
     },
     "metadata": {},
     "output_type": "display_data"
    }
   ],
   "source": [
    "twint.run.Search(c)"
   ]
  },
  {
   "cell_type": "code",
   "execution_count": 0,
   "metadata": {
    "colab": {},
    "colab_type": "code",
    "id": "sHTLupEFUx3j"
   },
   "outputs": [],
   "source": [
    "# buttigieg, klobuchar, biden, bloomberg"
   ]
  },
  {
   "cell_type": "code",
   "execution_count": 0,
   "metadata": {
    "colab": {},
    "colab_type": "code",
    "id": "J3b7p-DvL7-v"
   },
   "outputs": [],
   "source": [
    "d = twint.Config()\n",
    "d.Search = \"Klobuchar OR @amyklobuchar OR @SenAmyKlobuchar AND -Biden AND -Warren AND -Buttigieg AND -Bloomberg AND -Yang AND -Sanders AND -Bernie AND -@ewarren AND -@SenWarren AND -@MikeBloomberg AND -@JoeBiden AND -@BernieSanders AND -@SenSanders AND -@AndrewYang AND -@PeteButtigieg\"\n",
    "d.Store_csv = True\n",
    "d.Verified = True\n",
    "d.Output = 'klobuchar.csv'\n",
    "d.Since = '2020-01-01'"
   ]
  },
  {
   "cell_type": "code",
   "execution_count": 0,
   "metadata": {
    "colab": {
     "base_uri": "https://localhost:8080/",
     "height": 1000,
     "output_embedded_package_id": "1yhKofidZXK9nGmJDe0Br4o-Qw72La1O_"
    },
    "colab_type": "code",
    "executionInfo": {
     "elapsed": 405913,
     "status": "ok",
     "timestamp": 1581381765747,
     "user": {
      "displayName": "Robert Alterman",
      "photoUrl": "",
      "userId": "07232718886998554157"
     },
     "user_tz": 300
    },
    "id": "7DJmtBpxM7Z7",
    "outputId": "524a244d-fef7-4277-b224-f5071df20ac4"
   },
   "outputs": [
    {
     "data": {
      "text/plain": [
       "Output hidden; open in https://colab.research.google.com to view."
      ]
     },
     "metadata": {},
     "output_type": "display_data"
    }
   ],
   "source": [
    "twint.run.Search(d)"
   ]
  },
  {
   "cell_type": "code",
   "execution_count": 0,
   "metadata": {
    "colab": {},
    "colab_type": "code",
    "id": "nskE6cC_vPy2"
   },
   "outputs": [],
   "source": [
    "e = twint.Config()\n",
    "e.Search = \"Joe Biden OR Biden OR @JoeBiden AND -Hunter Biden AND -Klobuchar AND -@amyklobuchar AND -@SenAmyKlobuchar AND -Warren AND -Buttigieg AND -Bloomberg AND -Yang AND -Sanders AND -Bernie AND -@ewarren AND -@SenWarren AND -@MikeBloomberg AND -@BernieSanders AND -@SenSanders AND -@AndrewYang AND -@PeteButtigieg\"\n",
    "e.Store_csv = True\n",
    "e.Verified = True\n",
    "e.Output = 'biden.csv'\n",
    "e.Since = '2020-01-01'"
   ]
  },
  {
   "cell_type": "code",
   "execution_count": 0,
   "metadata": {
    "colab": {
     "base_uri": "https://localhost:8080/",
     "height": 1000,
     "output_embedded_package_id": "1QJeuCE_7UV5Qq0QBXgyLuONhcFSbsFOx"
    },
    "colab_type": "code",
    "executionInfo": {
     "elapsed": 468039,
     "status": "ok",
     "timestamp": 1581383073587,
     "user": {
      "displayName": "Robert Alterman",
      "photoUrl": "",
      "userId": "07232718886998554157"
     },
     "user_tz": 300
    },
    "id": "UZb5uR6Iv2Tb",
    "outputId": "a91675f0-c510-4daf-fade-1ea4a41d6e7d"
   },
   "outputs": [
    {
     "data": {
      "text/plain": [
       "Output hidden; open in https://colab.research.google.com to view."
      ]
     },
     "metadata": {},
     "output_type": "display_data"
    }
   ],
   "source": [
    "twint.run.Search(e)"
   ]
  },
  {
   "cell_type": "code",
   "execution_count": 0,
   "metadata": {
    "colab": {},
    "colab_type": "code",
    "id": "2svSTOgw4scA"
   },
   "outputs": [],
   "source": [
    "f = twint.Config()\n",
    "f.Search = \"Bloomberg OR @MikeBloomberg AND -@Bloomberg AND -LP AND -Biden AND -@JoeBiden AND -Klobuchar AND -@amyklobuchar AND -@SenAmyKlobuchar AND -Warren AND -Buttigieg AND -Yang AND -Sanders AND -Bernie AND -@ewarren AND -@SenWarren AND -@BernieSanders AND -@SenSanders AND -@AndrewYang AND -@PeteButtigieg\"\n",
    "f.Store_csv = True\n",
    "f.Verified = True\n",
    "f.Output = 'bloomberg.csv'\n",
    "f.Since = '2020-01-01'"
   ]
  },
  {
   "cell_type": "code",
   "execution_count": 40,
   "metadata": {
    "colab": {
     "base_uri": "https://localhost:8080/",
     "height": 1000,
     "output_embedded_package_id": "1d_z6u0FK5BcGmGJTuL3jJtlFfRnsbAs9"
    },
    "colab_type": "code",
    "executionInfo": {
     "elapsed": 1309286,
     "status": "ok",
     "timestamp": 1581432875257,
     "user": {
      "displayName": "Robert Alterman",
      "photoUrl": "",
      "userId": "07232718886998554157"
     },
     "user_tz": 300
    },
    "id": "z7FpbjkmqpMx",
    "outputId": "bf581e14-1ff1-4b24-8b14-fc9f646951fb"
   },
   "outputs": [
    {
     "data": {
      "text/plain": [
       "Output hidden; open in https://colab.research.google.com to view."
      ]
     },
     "metadata": {},
     "output_type": "display_data"
    }
   ],
   "source": [
    "twint.run.Search(f)"
   ]
  },
  {
   "cell_type": "code",
   "execution_count": 0,
   "metadata": {
    "colab": {},
    "colab_type": "code",
    "id": "8B9EJMLu1cpe"
   },
   "outputs": [],
   "source": [
    "g = twint.Config()\n",
    "g.Search = \"Trump OR @realDonaldTrump OR @POTUS AND -@FLOTUS AND -@MELANIATRUMP AND -@IvankaTrump AND -@DonaldJTrumpJr AND -@EricTrump AND -Melania AND -Ivanka AND -Jr AND -Eric AND -Barron AND -Buttigieg AND -@PeteButtigieg AND -Biden AND -Warren AND -Klobuchar AND -Bloomberg AND -Sanders AND -Bernie AND -@ewarren AND -@SenWarren AND -@MikeBloomberg AND -@JoeBiden AND -@amyklobuchar AND -@SenAmyKlobuchar AND -@BernieSanders AND -@SenSanders\"\n",
    "g.Store_csv = True\n",
    "g.Verified = True\n",
    "g.Output = 'trump.csv'\n",
    "g.Since = '2020-02-01'"
   ]
  },
  {
   "cell_type": "code",
   "execution_count": 6,
   "metadata": {
    "colab": {
     "base_uri": "https://localhost:8080/",
     "height": 1000,
     "output_embedded_package_id": "1_Jw8xnGKKScH_IcTw2uIYdDOj4PGenjd"
    },
    "colab_type": "code",
    "executionInfo": {
     "elapsed": 550723,
     "status": "ok",
     "timestamp": 1581536198742,
     "user": {
      "displayName": "Robert Alterman",
      "photoUrl": "",
      "userId": "07232718886998554157"
     },
     "user_tz": 300
    },
    "id": "EjgxYKyH3qQG",
    "outputId": "dde21b40-4078-4846-9c28-81d7c23ca9d7"
   },
   "outputs": [
    {
     "data": {
      "text/plain": [
       "Output hidden; open in https://colab.research.google.com to view."
      ]
     },
     "metadata": {},
     "output_type": "display_data"
    }
   ],
   "source": [
    "twint.run.Search(g)"
   ]
  }
 ],
 "metadata": {
  "colab": {
   "name": "twint_scraping.ipynb",
   "provenance": []
  },
  "kernelspec": {
   "display_name": "Python 3",
   "language": "python",
   "name": "python3"
  },
  "language_info": {
   "codemirror_mode": {
    "name": "ipython",
    "version": 3
   },
   "file_extension": ".py",
   "mimetype": "text/x-python",
   "name": "python",
   "nbconvert_exporter": "python",
   "pygments_lexer": "ipython3",
   "version": "3.7.4"
  }
 },
 "nbformat": 4,
 "nbformat_minor": 1
}
